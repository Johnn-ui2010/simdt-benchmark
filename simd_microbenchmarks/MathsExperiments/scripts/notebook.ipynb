{
 "cells": [
  {
   "cell_type": "code",
   "execution_count": null,
   "metadata": {},
   "outputs": [],
   "source": []
  },
  {
   "cell_type": "code",
   "execution_count": 4,
   "metadata": {},
   "outputs": [],
   "source": [
    "import csv\n",
    "import matplotlib.pyplot as plt\n",
    "import pandas as pd \n",
    "import numpy as np"
   ]
  },
  {
   "cell_type": "code",
   "execution_count": 5,
   "metadata": {},
   "outputs": [],
   "source": [
    "filename = \"data/simd_file2.csv\"\n"
   ]
  },
  {
   "cell_type": "code",
   "execution_count": 6,
   "metadata": {},
   "outputs": [
    {
     "data": {
      "text/html": [
       "<div>\n",
       "<style scoped>\n",
       "    .dataframe tbody tr th:only-of-type {\n",
       "        vertical-align: middle;\n",
       "    }\n",
       "\n",
       "    .dataframe tbody tr th {\n",
       "        vertical-align: top;\n",
       "    }\n",
       "\n",
       "    .dataframe thead th {\n",
       "        text-align: right;\n",
       "    }\n",
       "</style>\n",
       "<table border=\"1\" class=\"dataframe\">\n",
       "  <thead>\n",
       "    <tr style=\"text-align: right;\">\n",
       "      <th></th>\n",
       "      <th>operation</th>\n",
       "      <th>type</th>\n",
       "      <th>mode</th>\n",
       "      <th>size</th>\n",
       "      <th>time</th>\n",
       "    </tr>\n",
       "  </thead>\n",
       "  <tbody>\n",
       "    <tr>\n",
       "      <th>0</th>\n",
       "      <td>ADD</td>\n",
       "      <td>scalar</td>\n",
       "      <td>sgx</td>\n",
       "      <td>0.2</td>\n",
       "      <td>0.0976</td>\n",
       "    </tr>\n",
       "    <tr>\n",
       "      <th>1</th>\n",
       "      <td>ADD</td>\n",
       "      <td>unroll</td>\n",
       "      <td>sgx</td>\n",
       "      <td>0.2</td>\n",
       "      <td>0.0920</td>\n",
       "    </tr>\n",
       "    <tr>\n",
       "      <th>2</th>\n",
       "      <td>ADD</td>\n",
       "      <td>simd_sse</td>\n",
       "      <td>sgx</td>\n",
       "      <td>0.2</td>\n",
       "      <td>0.0942</td>\n",
       "    </tr>\n",
       "    <tr>\n",
       "      <th>3</th>\n",
       "      <td>SIMD_load_store</td>\n",
       "      <td>simd_avx</td>\n",
       "      <td>sgx</td>\n",
       "      <td>0.2</td>\n",
       "      <td>0.0430</td>\n",
       "    </tr>\n",
       "    <tr>\n",
       "      <th>4</th>\n",
       "      <td>ADD</td>\n",
       "      <td>simd_avx</td>\n",
       "      <td>sgx</td>\n",
       "      <td>0.2</td>\n",
       "      <td>0.0394</td>\n",
       "    </tr>\n",
       "    <tr>\n",
       "      <th>...</th>\n",
       "      <td>...</td>\n",
       "      <td>...</td>\n",
       "      <td>...</td>\n",
       "      <td>...</td>\n",
       "      <td>...</td>\n",
       "    </tr>\n",
       "    <tr>\n",
       "      <th>99</th>\n",
       "      <td>AND</td>\n",
       "      <td>simd_avx</td>\n",
       "      <td>native</td>\n",
       "      <td>100.0</td>\n",
       "      <td>15.6000</td>\n",
       "    </tr>\n",
       "    <tr>\n",
       "      <th>100</th>\n",
       "      <td>SHIFT_RIGHT</td>\n",
       "      <td>scalar</td>\n",
       "      <td>native</td>\n",
       "      <td>100.0</td>\n",
       "      <td>41.3000</td>\n",
       "    </tr>\n",
       "    <tr>\n",
       "      <th>101</th>\n",
       "      <td>SHIFT_RIGHT</td>\n",
       "      <td>unroll</td>\n",
       "      <td>native</td>\n",
       "      <td>100.0</td>\n",
       "      <td>25.0000</td>\n",
       "    </tr>\n",
       "    <tr>\n",
       "      <th>102</th>\n",
       "      <td>SHIFT_RIGHT</td>\n",
       "      <td>simd_sse</td>\n",
       "      <td>native</td>\n",
       "      <td>100.0</td>\n",
       "      <td>25.6000</td>\n",
       "    </tr>\n",
       "    <tr>\n",
       "      <th>103</th>\n",
       "      <td>SHIFT_RIGHT</td>\n",
       "      <td>simd_avx</td>\n",
       "      <td>native</td>\n",
       "      <td>100.0</td>\n",
       "      <td>14.9000</td>\n",
       "    </tr>\n",
       "  </tbody>\n",
       "</table>\n",
       "<p>104 rows × 5 columns</p>\n",
       "</div>"
      ],
      "text/plain": [
       "           operation      type    mode   size     time\n",
       "0                ADD    scalar     sgx    0.2   0.0976\n",
       "1                ADD    unroll     sgx    0.2   0.0920\n",
       "2                ADD  simd_sse     sgx    0.2   0.0942\n",
       "3    SIMD_load_store  simd_avx     sgx    0.2   0.0430\n",
       "4                ADD  simd_avx     sgx    0.2   0.0394\n",
       "..               ...       ...     ...    ...      ...\n",
       "99               AND  simd_avx  native  100.0  15.6000\n",
       "100      SHIFT_RIGHT    scalar  native  100.0  41.3000\n",
       "101      SHIFT_RIGHT    unroll  native  100.0  25.0000\n",
       "102      SHIFT_RIGHT  simd_sse  native  100.0  25.6000\n",
       "103      SHIFT_RIGHT  simd_avx  native  100.0  14.9000\n",
       "\n",
       "[104 rows x 5 columns]"
      ]
     },
     "execution_count": 6,
     "metadata": {},
     "output_type": "execute_result"
    }
   ],
   "source": [
    "df = pd.read_csv(filename)\n",
    "df"
   ]
  },
  {
   "cell_type": "code",
   "execution_count": 7,
   "metadata": {},
   "outputs": [],
   "source": [
    "df_native = df.loc[df['mode'] == 'native']\n",
    "df_sgx = df.loc[df['mode'] == 'sgx']"
   ]
  },
  {
   "cell_type": "code",
   "execution_count": 8,
   "metadata": {},
   "outputs": [
    {
     "data": {
      "text/html": [
       "<div>\n",
       "<style scoped>\n",
       "    .dataframe tbody tr th:only-of-type {\n",
       "        vertical-align: middle;\n",
       "    }\n",
       "\n",
       "    .dataframe tbody tr th {\n",
       "        vertical-align: top;\n",
       "    }\n",
       "\n",
       "    .dataframe thead th {\n",
       "        text-align: right;\n",
       "    }\n",
       "</style>\n",
       "<table border=\"1\" class=\"dataframe\">\n",
       "  <thead>\n",
       "    <tr style=\"text-align: right;\">\n",
       "      <th></th>\n",
       "      <th>operation</th>\n",
       "      <th>type</th>\n",
       "      <th>mode</th>\n",
       "      <th>size</th>\n",
       "      <th>time</th>\n",
       "    </tr>\n",
       "  </thead>\n",
       "  <tbody>\n",
       "    <tr>\n",
       "      <th>52</th>\n",
       "      <td>ADD</td>\n",
       "      <td>scalar</td>\n",
       "      <td>native</td>\n",
       "      <td>0.2</td>\n",
       "      <td>0.0999</td>\n",
       "    </tr>\n",
       "    <tr>\n",
       "      <th>53</th>\n",
       "      <td>ADD</td>\n",
       "      <td>unroll</td>\n",
       "      <td>native</td>\n",
       "      <td>0.2</td>\n",
       "      <td>0.0462</td>\n",
       "    </tr>\n",
       "    <tr>\n",
       "      <th>54</th>\n",
       "      <td>ADD</td>\n",
       "      <td>simd_sse</td>\n",
       "      <td>native</td>\n",
       "      <td>0.2</td>\n",
       "      <td>0.0526</td>\n",
       "    </tr>\n",
       "    <tr>\n",
       "      <th>56</th>\n",
       "      <td>ADD</td>\n",
       "      <td>simd_avx</td>\n",
       "      <td>native</td>\n",
       "      <td>0.2</td>\n",
       "      <td>0.0284</td>\n",
       "    </tr>\n",
       "    <tr>\n",
       "      <th>65</th>\n",
       "      <td>ADD</td>\n",
       "      <td>scalar</td>\n",
       "      <td>native</td>\n",
       "      <td>6.4</td>\n",
       "      <td>2.5400</td>\n",
       "    </tr>\n",
       "    <tr>\n",
       "      <th>66</th>\n",
       "      <td>ADD</td>\n",
       "      <td>unroll</td>\n",
       "      <td>native</td>\n",
       "      <td>6.4</td>\n",
       "      <td>1.4900</td>\n",
       "    </tr>\n",
       "    <tr>\n",
       "      <th>67</th>\n",
       "      <td>ADD</td>\n",
       "      <td>simd_sse</td>\n",
       "      <td>native</td>\n",
       "      <td>6.4</td>\n",
       "      <td>1.6400</td>\n",
       "    </tr>\n",
       "    <tr>\n",
       "      <th>69</th>\n",
       "      <td>ADD</td>\n",
       "      <td>simd_avx</td>\n",
       "      <td>native</td>\n",
       "      <td>6.4</td>\n",
       "      <td>0.9090</td>\n",
       "    </tr>\n",
       "    <tr>\n",
       "      <th>78</th>\n",
       "      <td>ADD</td>\n",
       "      <td>scalar</td>\n",
       "      <td>native</td>\n",
       "      <td>16.0</td>\n",
       "      <td>6.4400</td>\n",
       "    </tr>\n",
       "    <tr>\n",
       "      <th>79</th>\n",
       "      <td>ADD</td>\n",
       "      <td>unroll</td>\n",
       "      <td>native</td>\n",
       "      <td>16.0</td>\n",
       "      <td>3.8300</td>\n",
       "    </tr>\n",
       "    <tr>\n",
       "      <th>80</th>\n",
       "      <td>ADD</td>\n",
       "      <td>simd_sse</td>\n",
       "      <td>native</td>\n",
       "      <td>16.0</td>\n",
       "      <td>4.1800</td>\n",
       "    </tr>\n",
       "    <tr>\n",
       "      <th>82</th>\n",
       "      <td>ADD</td>\n",
       "      <td>simd_avx</td>\n",
       "      <td>native</td>\n",
       "      <td>16.0</td>\n",
       "      <td>2.3800</td>\n",
       "    </tr>\n",
       "    <tr>\n",
       "      <th>91</th>\n",
       "      <td>ADD</td>\n",
       "      <td>scalar</td>\n",
       "      <td>native</td>\n",
       "      <td>100.0</td>\n",
       "      <td>41.3000</td>\n",
       "    </tr>\n",
       "    <tr>\n",
       "      <th>92</th>\n",
       "      <td>ADD</td>\n",
       "      <td>unroll</td>\n",
       "      <td>native</td>\n",
       "      <td>100.0</td>\n",
       "      <td>25.0000</td>\n",
       "    </tr>\n",
       "    <tr>\n",
       "      <th>93</th>\n",
       "      <td>ADD</td>\n",
       "      <td>simd_sse</td>\n",
       "      <td>native</td>\n",
       "      <td>100.0</td>\n",
       "      <td>27.2000</td>\n",
       "    </tr>\n",
       "    <tr>\n",
       "      <th>95</th>\n",
       "      <td>ADD</td>\n",
       "      <td>simd_avx</td>\n",
       "      <td>native</td>\n",
       "      <td>100.0</td>\n",
       "      <td>15.8000</td>\n",
       "    </tr>\n",
       "  </tbody>\n",
       "</table>\n",
       "</div>"
      ],
      "text/plain": [
       "   operation      type    mode   size     time\n",
       "52       ADD    scalar  native    0.2   0.0999\n",
       "53       ADD    unroll  native    0.2   0.0462\n",
       "54       ADD  simd_sse  native    0.2   0.0526\n",
       "56       ADD  simd_avx  native    0.2   0.0284\n",
       "65       ADD    scalar  native    6.4   2.5400\n",
       "66       ADD    unroll  native    6.4   1.4900\n",
       "67       ADD  simd_sse  native    6.4   1.6400\n",
       "69       ADD  simd_avx  native    6.4   0.9090\n",
       "78       ADD    scalar  native   16.0   6.4400\n",
       "79       ADD    unroll  native   16.0   3.8300\n",
       "80       ADD  simd_sse  native   16.0   4.1800\n",
       "82       ADD  simd_avx  native   16.0   2.3800\n",
       "91       ADD    scalar  native  100.0  41.3000\n",
       "92       ADD    unroll  native  100.0  25.0000\n",
       "93       ADD  simd_sse  native  100.0  27.2000\n",
       "95       ADD  simd_avx  native  100.0  15.8000"
      ]
     },
     "execution_count": 8,
     "metadata": {},
     "output_type": "execute_result"
    }
   ],
   "source": [
    "df_native_add = df_native.loc[df['operation'] == 'ADD']\n",
    "df_sgx_add = df_sgx.loc[df['operation'] == 'ADD']\n",
    "df_native_add"
   ]
  },
  {
   "cell_type": "code",
   "execution_count": 9,
   "metadata": {},
   "outputs": [
    {
     "ename": "ValueError",
     "evalue": "All arrays must be of the same length",
     "output_type": "error",
     "traceback": [
      "\u001b[0;31m---------------------------------------------------------------------------\u001b[0m",
      "\u001b[0;31mValueError\u001b[0m                                Traceback (most recent call last)",
      "Cell \u001b[0;32mIn[9], line 4\u001b[0m\n\u001b[1;32m      2\u001b[0m \u001b[38;5;28;01mfor\u001b[39;00m op \u001b[38;5;129;01min\u001b[39;00m df_native[\u001b[38;5;124m'\u001b[39m\u001b[38;5;124moperation\u001b[39m\u001b[38;5;124m'\u001b[39m]\u001b[38;5;241m.\u001b[39munique():\n\u001b[1;32m      3\u001b[0m     y_native[op] \u001b[38;5;241m=\u001b[39m ( df_native\u001b[38;5;241m.\u001b[39mloc[df_native[\u001b[38;5;124m'\u001b[39m\u001b[38;5;124moperation\u001b[39m\u001b[38;5;124m'\u001b[39m] \u001b[38;5;241m==\u001b[39m op][\u001b[38;5;124m\"\u001b[39m\u001b[38;5;124mtime\u001b[39m\u001b[38;5;124m\"\u001b[39m]\u001b[38;5;241m.\u001b[39mreset_index(drop\u001b[38;5;241m=\u001b[39m\u001b[38;5;28;01mTrue\u001b[39;00m)\u001b[38;5;241m.\u001b[39mto_list() )\n\u001b[0;32m----> 4\u001b[0m y_native \u001b[38;5;241m=\u001b[39m \u001b[43mpd\u001b[49m\u001b[38;5;241;43m.\u001b[39;49m\u001b[43mDataFrame\u001b[49m\u001b[43m(\u001b[49m\u001b[43my_native\u001b[49m\u001b[43m)\u001b[49m\n\u001b[1;32m      5\u001b[0m y_native\n",
      "File \u001b[0;32m~/.local/lib/python3.8/site-packages/pandas/core/frame.py:709\u001b[0m, in \u001b[0;36mDataFrame.__init__\u001b[0;34m(self, data, index, columns, dtype, copy)\u001b[0m\n\u001b[1;32m    703\u001b[0m     mgr \u001b[38;5;241m=\u001b[39m \u001b[38;5;28mself\u001b[39m\u001b[38;5;241m.\u001b[39m_init_mgr(\n\u001b[1;32m    704\u001b[0m         data, axes\u001b[38;5;241m=\u001b[39m{\u001b[38;5;124m\"\u001b[39m\u001b[38;5;124mindex\u001b[39m\u001b[38;5;124m\"\u001b[39m: index, \u001b[38;5;124m\"\u001b[39m\u001b[38;5;124mcolumns\u001b[39m\u001b[38;5;124m\"\u001b[39m: columns}, dtype\u001b[38;5;241m=\u001b[39mdtype, copy\u001b[38;5;241m=\u001b[39mcopy\n\u001b[1;32m    705\u001b[0m     )\n\u001b[1;32m    707\u001b[0m \u001b[38;5;28;01melif\u001b[39;00m \u001b[38;5;28misinstance\u001b[39m(data, \u001b[38;5;28mdict\u001b[39m):\n\u001b[1;32m    708\u001b[0m     \u001b[38;5;66;03m# GH#38939 de facto copy defaults to False only in non-dict cases\u001b[39;00m\n\u001b[0;32m--> 709\u001b[0m     mgr \u001b[38;5;241m=\u001b[39m \u001b[43mdict_to_mgr\u001b[49m\u001b[43m(\u001b[49m\u001b[43mdata\u001b[49m\u001b[43m,\u001b[49m\u001b[43m \u001b[49m\u001b[43mindex\u001b[49m\u001b[43m,\u001b[49m\u001b[43m \u001b[49m\u001b[43mcolumns\u001b[49m\u001b[43m,\u001b[49m\u001b[43m \u001b[49m\u001b[43mdtype\u001b[49m\u001b[38;5;241;43m=\u001b[39;49m\u001b[43mdtype\u001b[49m\u001b[43m,\u001b[49m\u001b[43m \u001b[49m\u001b[43mcopy\u001b[49m\u001b[38;5;241;43m=\u001b[39;49m\u001b[43mcopy\u001b[49m\u001b[43m,\u001b[49m\u001b[43m \u001b[49m\u001b[43mtyp\u001b[49m\u001b[38;5;241;43m=\u001b[39;49m\u001b[43mmanager\u001b[49m\u001b[43m)\u001b[49m\n\u001b[1;32m    710\u001b[0m \u001b[38;5;28;01melif\u001b[39;00m \u001b[38;5;28misinstance\u001b[39m(data, ma\u001b[38;5;241m.\u001b[39mMaskedArray):\n\u001b[1;32m    711\u001b[0m     \u001b[38;5;28;01mfrom\u001b[39;00m \u001b[38;5;21;01mnumpy\u001b[39;00m\u001b[38;5;21;01m.\u001b[39;00m\u001b[38;5;21;01mma\u001b[39;00m \u001b[38;5;28;01mimport\u001b[39;00m mrecords\n",
      "File \u001b[0;32m~/.local/lib/python3.8/site-packages/pandas/core/internals/construction.py:481\u001b[0m, in \u001b[0;36mdict_to_mgr\u001b[0;34m(data, index, columns, dtype, typ, copy)\u001b[0m\n\u001b[1;32m    477\u001b[0m     \u001b[38;5;28;01melse\u001b[39;00m:\n\u001b[1;32m    478\u001b[0m         \u001b[38;5;66;03m# dtype check to exclude e.g. range objects, scalars\u001b[39;00m\n\u001b[1;32m    479\u001b[0m         arrays \u001b[38;5;241m=\u001b[39m [x\u001b[38;5;241m.\u001b[39mcopy() \u001b[38;5;28;01mif\u001b[39;00m \u001b[38;5;28mhasattr\u001b[39m(x, \u001b[38;5;124m\"\u001b[39m\u001b[38;5;124mdtype\u001b[39m\u001b[38;5;124m\"\u001b[39m) \u001b[38;5;28;01melse\u001b[39;00m x \u001b[38;5;28;01mfor\u001b[39;00m x \u001b[38;5;129;01min\u001b[39;00m arrays]\n\u001b[0;32m--> 481\u001b[0m \u001b[38;5;28;01mreturn\u001b[39;00m \u001b[43marrays_to_mgr\u001b[49m\u001b[43m(\u001b[49m\u001b[43marrays\u001b[49m\u001b[43m,\u001b[49m\u001b[43m \u001b[49m\u001b[43mcolumns\u001b[49m\u001b[43m,\u001b[49m\u001b[43m \u001b[49m\u001b[43mindex\u001b[49m\u001b[43m,\u001b[49m\u001b[43m \u001b[49m\u001b[43mdtype\u001b[49m\u001b[38;5;241;43m=\u001b[39;49m\u001b[43mdtype\u001b[49m\u001b[43m,\u001b[49m\u001b[43m \u001b[49m\u001b[43mtyp\u001b[49m\u001b[38;5;241;43m=\u001b[39;49m\u001b[43mtyp\u001b[49m\u001b[43m,\u001b[49m\u001b[43m \u001b[49m\u001b[43mconsolidate\u001b[49m\u001b[38;5;241;43m=\u001b[39;49m\u001b[43mcopy\u001b[49m\u001b[43m)\u001b[49m\n",
      "File \u001b[0;32m~/.local/lib/python3.8/site-packages/pandas/core/internals/construction.py:115\u001b[0m, in \u001b[0;36marrays_to_mgr\u001b[0;34m(arrays, columns, index, dtype, verify_integrity, typ, consolidate)\u001b[0m\n\u001b[1;32m    112\u001b[0m \u001b[38;5;28;01mif\u001b[39;00m verify_integrity:\n\u001b[1;32m    113\u001b[0m     \u001b[38;5;66;03m# figure out the index, if necessary\u001b[39;00m\n\u001b[1;32m    114\u001b[0m     \u001b[38;5;28;01mif\u001b[39;00m index \u001b[38;5;129;01mis\u001b[39;00m \u001b[38;5;28;01mNone\u001b[39;00m:\n\u001b[0;32m--> 115\u001b[0m         index \u001b[38;5;241m=\u001b[39m \u001b[43m_extract_index\u001b[49m\u001b[43m(\u001b[49m\u001b[43marrays\u001b[49m\u001b[43m)\u001b[49m\n\u001b[1;32m    116\u001b[0m     \u001b[38;5;28;01melse\u001b[39;00m:\n\u001b[1;32m    117\u001b[0m         index \u001b[38;5;241m=\u001b[39m ensure_index(index)\n",
      "File \u001b[0;32m~/.local/lib/python3.8/site-packages/pandas/core/internals/construction.py:655\u001b[0m, in \u001b[0;36m_extract_index\u001b[0;34m(data)\u001b[0m\n\u001b[1;32m    653\u001b[0m lengths \u001b[38;5;241m=\u001b[39m \u001b[38;5;28mlist\u001b[39m(\u001b[38;5;28mset\u001b[39m(raw_lengths))\n\u001b[1;32m    654\u001b[0m \u001b[38;5;28;01mif\u001b[39;00m \u001b[38;5;28mlen\u001b[39m(lengths) \u001b[38;5;241m>\u001b[39m \u001b[38;5;241m1\u001b[39m:\n\u001b[0;32m--> 655\u001b[0m     \u001b[38;5;28;01mraise\u001b[39;00m \u001b[38;5;167;01mValueError\u001b[39;00m(\u001b[38;5;124m\"\u001b[39m\u001b[38;5;124mAll arrays must be of the same length\u001b[39m\u001b[38;5;124m\"\u001b[39m)\n\u001b[1;32m    657\u001b[0m \u001b[38;5;28;01mif\u001b[39;00m have_dicts:\n\u001b[1;32m    658\u001b[0m     \u001b[38;5;28;01mraise\u001b[39;00m \u001b[38;5;167;01mValueError\u001b[39;00m(\n\u001b[1;32m    659\u001b[0m         \u001b[38;5;124m\"\u001b[39m\u001b[38;5;124mMixing dicts with non-Series may lead to ambiguous ordering.\u001b[39m\u001b[38;5;124m\"\u001b[39m\n\u001b[1;32m    660\u001b[0m     )\n",
      "\u001b[0;31mValueError\u001b[0m: All arrays must be of the same length"
     ]
    }
   ],
   "source": [
    "y_native = {}\n",
    "for op in df_native['operation'].unique():\n",
    "    y_native[op] = ( df_native.loc[df_native['operation'] == op][\"time\"].reset_index(drop=True).to_list() )\n",
    "y_native = pd.DataFrame(y_native)\n",
    "y_native"
   ]
  },
  {
   "cell_type": "code",
   "execution_count": 10,
   "metadata": {},
   "outputs": [
    {
     "data": {
      "text/html": [
       "<div>\n",
       "<style scoped>\n",
       "    .dataframe tbody tr th:only-of-type {\n",
       "        vertical-align: middle;\n",
       "    }\n",
       "\n",
       "    .dataframe tbody tr th {\n",
       "        vertical-align: top;\n",
       "    }\n",
       "\n",
       "    .dataframe thead th {\n",
       "        text-align: right;\n",
       "    }\n",
       "</style>\n",
       "<table border=\"1\" class=\"dataframe\">\n",
       "  <thead>\n",
       "    <tr style=\"text-align: right;\">\n",
       "      <th></th>\n",
       "      <th>scalar</th>\n",
       "      <th>unroll</th>\n",
       "      <th>simd_sse</th>\n",
       "      <th>simd_avx</th>\n",
       "    </tr>\n",
       "  </thead>\n",
       "  <tbody>\n",
       "    <tr>\n",
       "      <th>0</th>\n",
       "      <td>0.0999</td>\n",
       "      <td>0.0462</td>\n",
       "      <td>0.0526</td>\n",
       "      <td>0.0284</td>\n",
       "    </tr>\n",
       "    <tr>\n",
       "      <th>1</th>\n",
       "      <td>2.5400</td>\n",
       "      <td>1.4900</td>\n",
       "      <td>1.6400</td>\n",
       "      <td>0.9090</td>\n",
       "    </tr>\n",
       "    <tr>\n",
       "      <th>2</th>\n",
       "      <td>6.4400</td>\n",
       "      <td>3.8300</td>\n",
       "      <td>4.1800</td>\n",
       "      <td>2.3800</td>\n",
       "    </tr>\n",
       "    <tr>\n",
       "      <th>3</th>\n",
       "      <td>41.3000</td>\n",
       "      <td>25.0000</td>\n",
       "      <td>27.2000</td>\n",
       "      <td>15.8000</td>\n",
       "    </tr>\n",
       "  </tbody>\n",
       "</table>\n",
       "</div>"
      ],
      "text/plain": [
       "    scalar   unroll  simd_sse  simd_avx\n",
       "0   0.0999   0.0462    0.0526    0.0284\n",
       "1   2.5400   1.4900    1.6400    0.9090\n",
       "2   6.4400   3.8300    4.1800    2.3800\n",
       "3  41.3000  25.0000   27.2000   15.8000"
      ]
     },
     "execution_count": 10,
     "metadata": {},
     "output_type": "execute_result"
    }
   ],
   "source": [
    "y_native_add = {}\n",
    "for t in df_native_add['type'].unique():\n",
    "    y_native_add[t] = ( df_native_add.loc[df_native['type'] == t][\"time\"].reset_index(drop=True).to_list() )\n",
    "y_native_add = pd.DataFrame(y_native_add)\n",
    "y_native_add"
   ]
  },
  {
   "cell_type": "code",
   "execution_count": 11,
   "metadata": {},
   "outputs": [
    {
     "data": {
      "text/html": [
       "<div>\n",
       "<style scoped>\n",
       "    .dataframe tbody tr th:only-of-type {\n",
       "        vertical-align: middle;\n",
       "    }\n",
       "\n",
       "    .dataframe tbody tr th {\n",
       "        vertical-align: top;\n",
       "    }\n",
       "\n",
       "    .dataframe thead th {\n",
       "        text-align: right;\n",
       "    }\n",
       "</style>\n",
       "<table border=\"1\" class=\"dataframe\">\n",
       "  <thead>\n",
       "    <tr style=\"text-align: right;\">\n",
       "      <th></th>\n",
       "      <th>scalar</th>\n",
       "      <th>unroll</th>\n",
       "      <th>simd_sse</th>\n",
       "      <th>simd_avx</th>\n",
       "    </tr>\n",
       "  </thead>\n",
       "  <tbody>\n",
       "    <tr>\n",
       "      <th>0</th>\n",
       "      <td>0.000002</td>\n",
       "      <td>8.812085e-07</td>\n",
       "      <td>1.003281e-06</td>\n",
       "      <td>5.416953e-07</td>\n",
       "    </tr>\n",
       "    <tr>\n",
       "      <th>1</th>\n",
       "      <td>0.000002</td>\n",
       "      <td>8.881095e-07</td>\n",
       "      <td>9.775165e-07</td>\n",
       "      <td>5.418064e-07</td>\n",
       "    </tr>\n",
       "    <tr>\n",
       "      <th>2</th>\n",
       "      <td>0.000002</td>\n",
       "      <td>9.131432e-07</td>\n",
       "      <td>9.965897e-07</td>\n",
       "      <td>5.674362e-07</td>\n",
       "    </tr>\n",
       "    <tr>\n",
       "      <th>3</th>\n",
       "      <td>0.000002</td>\n",
       "      <td>9.536743e-07</td>\n",
       "      <td>1.037598e-06</td>\n",
       "      <td>6.027222e-07</td>\n",
       "    </tr>\n",
       "  </tbody>\n",
       "</table>\n",
       "</div>"
      ],
      "text/plain": [
       "     scalar        unroll      simd_sse      simd_avx\n",
       "0  0.000002  8.812085e-07  1.003281e-06  5.416953e-07\n",
       "1  0.000002  8.881095e-07  9.775165e-07  5.418064e-07\n",
       "2  0.000002  9.131432e-07  9.965897e-07  5.674362e-07\n",
       "3  0.000002  9.536743e-07  1.037598e-06  6.027222e-07"
      ]
     },
     "execution_count": 11,
     "metadata": {},
     "output_type": "execute_result"
    }
   ],
   "source": [
    "y_native_add_per_tuple = y_native_add.copy()\n",
    "mb_of_data = 262144\n",
    "sizes = [int(0.2*mb_of_data),int(6.4*mb_of_data),16.0*mb_of_data,100.0*mb_of_data]\n",
    "#y_native_add_cycle.loc[:,0] = y_native_add[:,0] / sizes[0]\n",
    "for i in range(len(sizes)):  \n",
    "    y_native_add_per_tuple.loc[i,:] = y_native_add_per_tuple.loc[i,:] / sizes[i]\n",
    "y_native_add_per_tuple"
   ]
  },
  {
   "cell_type": "code",
   "execution_count": 12,
   "metadata": {},
   "outputs": [
    {
     "data": {
      "text/plain": [
       "[52428, 1677721, 4194304.0, 26214400.0]"
      ]
     },
     "execution_count": 12,
     "metadata": {},
     "output_type": "execute_result"
    }
   ],
   "source": [
    "sizes"
   ]
  },
  {
   "cell_type": "code",
   "execution_count": 13,
   "metadata": {},
   "outputs": [
    {
     "data": {
      "text/plain": [
       "Text(0, 0.5, 'CPU execution time in ms')"
      ]
     },
     "execution_count": 13,
     "metadata": {},
     "output_type": "execute_result"
    },
    {
     "data": {
      "image/png": "[encoded data removed]",
      "text/plain": [
       "<Figure size 640x480 with 1 Axes>"
      ]
     },
     "metadata": {},
     "output_type": "display_data"
    },
    {
     "data": {
      "image/png": "[encoded data removed]",
      "text/plain": [
       "<Figure size 640x480 with 1 Axes>"
      ]
     },
     "metadata": {},
     "output_type": "display_data"
    }
   ],
   "source": [
    "fig, ax = plt.subplots(1,1)\n",
    "\n",
    "# algorithm categories/implementations\n",
    "type_cat = df_native_add['type'].unique()\n",
    "\n",
    "size_names = [\n",
    "        '${size}$ < L2',\n",
    "        'L2 < ${size}$ < L3',\n",
    "        'L3 < ${size}$ < EPC',\n",
    "        'EPC < ${size}$'\n",
    "    ]\n",
    "\n",
    "x =np.arange( 0,len(size_names) )\n",
    "\n",
    "\n",
    "ax = y_native_add.plot(kind=\"bar\")\n",
    "ax.legend(type_cat)\n",
    "ax.set_xticks(x, size_names, rotation = 0)\n",
    "ax.set_xlabel(\"Total tables size\",)\n",
    "ax.set_ylabel(\"CPU execution time in ms\")"
   ]
  },
  {
   "cell_type": "code",
   "execution_count": 14,
   "metadata": {},
   "outputs": [
    {
     "data": {
      "text/plain": [
       "Text(0, 0.5, 'CPU execution time per tuple in ms')"
      ]
     },
     "execution_count": 14,
     "metadata": {},
     "output_type": "execute_result"
    },
    {
     "data": {
      "image/png": "[encoded data removed]",
      "text/plain": [
       "<Figure size 640x480 with 1 Axes>"
      ]
     },
     "metadata": {},
     "output_type": "display_data"
    }
   ],
   "source": [
    "x =np.arange( 0,len(size_names) )\n",
    "\n",
    "\n",
    "ax = y_native_add_per_tuple.plot(kind=\"bar\")\n",
    "ax.legend(type_cat)\n",
    "ax.set_xticks(x, size_names, rotation = 0)\n",
    "ax.set_xlabel(\"Total tables size\",)\n",
    "ax.set_ylabel(\"CPU execution time per tuple in ms\")"
   ]
  },
  {
   "cell_type": "code",
   "execution_count": 15,
   "metadata": {},
   "outputs": [
    {
     "data": {
      "text/html": [
       "<div>\n",
       "<style scoped>\n",
       "    .dataframe tbody tr th:only-of-type {\n",
       "        vertical-align: middle;\n",
       "    }\n",
       "\n",
       "    .dataframe tbody tr th {\n",
       "        vertical-align: top;\n",
       "    }\n",
       "\n",
       "    .dataframe thead th {\n",
       "        text-align: right;\n",
       "    }\n",
       "</style>\n",
       "<table border=\"1\" class=\"dataframe\">\n",
       "  <thead>\n",
       "    <tr style=\"text-align: right;\">\n",
       "      <th></th>\n",
       "      <th>scalar</th>\n",
       "      <th>unroll</th>\n",
       "      <th>simd_sse</th>\n",
       "      <th>simd_avx</th>\n",
       "    </tr>\n",
       "  </thead>\n",
       "  <tbody>\n",
       "    <tr>\n",
       "      <th>0</th>\n",
       "      <td>0.524805</td>\n",
       "      <td>1.134805</td>\n",
       "      <td>0.996730</td>\n",
       "      <td>1.846056</td>\n",
       "    </tr>\n",
       "    <tr>\n",
       "      <th>1</th>\n",
       "      <td>0.660520</td>\n",
       "      <td>1.125987</td>\n",
       "      <td>1.023001</td>\n",
       "      <td>1.845678</td>\n",
       "    </tr>\n",
       "    <tr>\n",
       "      <th>2</th>\n",
       "      <td>0.651289</td>\n",
       "      <td>1.095119</td>\n",
       "      <td>1.003422</td>\n",
       "      <td>1.762313</td>\n",
       "    </tr>\n",
       "    <tr>\n",
       "      <th>3</th>\n",
       "      <td>0.634731</td>\n",
       "      <td>1.048576</td>\n",
       "      <td>0.963765</td>\n",
       "      <td>1.659139</td>\n",
       "    </tr>\n",
       "  </tbody>\n",
       "</table>\n",
       "</div>"
      ],
      "text/plain": [
       "     scalar    unroll  simd_sse  simd_avx\n",
       "0  0.524805  1.134805  0.996730  1.846056\n",
       "1  0.660520  1.125987  1.023001  1.845678\n",
       "2  0.651289  1.095119  1.003422  1.762313\n",
       "3  0.634731  1.048576  0.963765  1.659139"
      ]
     },
     "execution_count": 15,
     "metadata": {},
     "output_type": "execute_result"
    }
   ],
   "source": [
    "y_native_add_throughput = y_native_add.copy()\n",
    "\n",
    "for i in range(len(sizes)):  \n",
    "    y_native_add_throughput.loc[i,:] = sizes[i] / 1000000 / y_native_add_throughput.loc[i,:] \n",
    "y_native_add_throughput"
   ]
  },
  {
   "cell_type": "code",
   "execution_count": 16,
   "metadata": {},
   "outputs": [
    {
     "data": {
      "text/plain": [
       "Text(0, 0.5, 'Throughput in M rec/s')"
      ]
     },
     "execution_count": 16,
     "metadata": {},
     "output_type": "execute_result"
    },
    {
     "data": {
      "image/png": "[encoded data removed]",
      "text/plain": [
       "<Figure size 640x480 with 1 Axes>"
      ]
     },
     "metadata": {},
     "output_type": "display_data"
    }
   ],
   "source": [
    "x =np.arange( 0,len(size_names) )\n",
    "\n",
    "\n",
    "ax = y_native_add_throughput.plot(kind=\"bar\")\n",
    "ax.legend(type_cat)\n",
    "ax.set_xticks(x, size_names, rotation = 0)\n",
    "ax.set_xlabel(\"Total table size\",)\n",
    "ax.set_ylabel(\"Throughput in M rec/s\")"
   ]
  },
  {
   "cell_type": "code",
   "execution_count": 17,
   "metadata": {},
   "outputs": [],
   "source": [
    "y_sgx_add = {}\n",
    "for t in df_sgx_add['type'].unique():\n",
    "    y_sgx_add[t] = ( df_sgx_add.loc[df_sgx['type'] == t][\"time\"].reset_index(drop=True).to_list() )\n",
    "y_sgx_add = pd.DataFrame(y_sgx_add)"
   ]
  },
  {
   "cell_type": "code",
   "execution_count": 18,
   "metadata": {},
   "outputs": [
    {
     "data": {
      "text/html": [
       "<div>\n",
       "<style scoped>\n",
       "    .dataframe tbody tr th:only-of-type {\n",
       "        vertical-align: middle;\n",
       "    }\n",
       "\n",
       "    .dataframe tbody tr th {\n",
       "        vertical-align: top;\n",
       "    }\n",
       "\n",
       "    .dataframe thead th {\n",
       "        text-align: right;\n",
       "    }\n",
       "</style>\n",
       "<table border=\"1\" class=\"dataframe\">\n",
       "  <thead>\n",
       "    <tr style=\"text-align: right;\">\n",
       "      <th></th>\n",
       "      <th>scalar</th>\n",
       "      <th>unroll</th>\n",
       "      <th>simd_sse</th>\n",
       "      <th>simd_avx</th>\n",
       "    </tr>\n",
       "  </thead>\n",
       "  <tbody>\n",
       "    <tr>\n",
       "      <th>0</th>\n",
       "      <td>1.861601e-06</td>\n",
       "      <td>1.754788e-06</td>\n",
       "      <td>1.796750e-06</td>\n",
       "      <td>7.515068e-07</td>\n",
       "    </tr>\n",
       "    <tr>\n",
       "      <th>1</th>\n",
       "      <td>3.218652e-07</td>\n",
       "      <td>2.479554e-07</td>\n",
       "      <td>4.255773e-07</td>\n",
       "      <td>2.443791e-07</td>\n",
       "    </tr>\n",
       "    <tr>\n",
       "      <th>2</th>\n",
       "      <td>3.504753e-07</td>\n",
       "      <td>2.837181e-07</td>\n",
       "      <td>4.315376e-07</td>\n",
       "      <td>2.622604e-07</td>\n",
       "    </tr>\n",
       "    <tr>\n",
       "      <th>3</th>\n",
       "      <td>3.967285e-07</td>\n",
       "      <td>3.467560e-07</td>\n",
       "      <td>4.577637e-07</td>\n",
       "      <td>3.005981e-07</td>\n",
       "    </tr>\n",
       "  </tbody>\n",
       "</table>\n",
       "</div>"
      ],
      "text/plain": [
       "         scalar        unroll      simd_sse      simd_avx\n",
       "0  1.861601e-06  1.754788e-06  1.796750e-06  7.515068e-07\n",
       "1  3.218652e-07  2.479554e-07  4.255773e-07  2.443791e-07\n",
       "2  3.504753e-07  2.837181e-07  4.315376e-07  2.622604e-07\n",
       "3  3.967285e-07  3.467560e-07  4.577637e-07  3.005981e-07"
      ]
     },
     "execution_count": 18,
     "metadata": {},
     "output_type": "execute_result"
    }
   ],
   "source": [
    "y_sgx_add_per_tuple = y_sgx_add.copy()\n",
    "mb_of_data = 262144\n",
    "sizes = [int(0.2*mb_of_data),int(6.4*mb_of_data),16.0*mb_of_data,100.0*mb_of_data]\n",
    "#y_native_add_cycle.loc[:,0] = y_native_add[:,0] / sizes[0]\n",
    "for i in range(len(sizes)):  \n",
    "    y_sgx_add_per_tuple.loc[i,:] = y_sgx_add_per_tuple.loc[i,:] / sizes[i]\n",
    "y_sgx_add_per_tuple"
   ]
  },
  {
   "cell_type": "code",
   "execution_count": 20,
   "metadata": {},
   "outputs": [
    {
     "data": {
      "text/plain": [
       "Text(0, 0.5, 'CPU execution time per tuple in ms')"
      ]
     },
     "execution_count": 20,
     "metadata": {},
     "output_type": "execute_result"
    },
    {
     "data": {
      "image/png": "[encoded data removed]",
      "text/plain": [
       "<Figure size 640x480 with 1 Axes>"
      ]
     },
     "metadata": {},
     "output_type": "display_data"
    }
   ],
   "source": [
    "x =np.arange( 0,len(size_names) )\n",
    "\n",
    "\n",
    "ax = y_sgx_add_per_tuple.plot(kind=\"bar\")\n",
    "ax.legend(type_cat)\n",
    "ax.set_xticks(x, size_names, rotation = 0)\n",
    "ax.set_xlabel(\"Total tables size\",)\n",
    "ax.set_ylabel(\"CPU execution time per tuple in ms\")"
   ]
  },
  {
   "cell_type": "code",
   "execution_count": 19,
   "metadata": {},
   "outputs": [
    {
     "data": {
      "text/html": [
       "<div>\n",
       "<style scoped>\n",
       "    .dataframe tbody tr th:only-of-type {\n",
       "        vertical-align: middle;\n",
       "    }\n",
       "\n",
       "    .dataframe tbody tr th {\n",
       "        vertical-align: top;\n",
       "    }\n",
       "\n",
       "    .dataframe thead th {\n",
       "        text-align: right;\n",
       "    }\n",
       "</style>\n",
       "<table border=\"1\" class=\"dataframe\">\n",
       "  <thead>\n",
       "    <tr style=\"text-align: right;\">\n",
       "      <th></th>\n",
       "      <th>scalar</th>\n",
       "      <th>unroll</th>\n",
       "      <th>simd_sse</th>\n",
       "      <th>simd_avx</th>\n",
       "    </tr>\n",
       "  </thead>\n",
       "  <tbody>\n",
       "    <tr>\n",
       "      <th>0</th>\n",
       "      <td>0.537172</td>\n",
       "      <td>0.569870</td>\n",
       "      <td>0.556561</td>\n",
       "      <td>1.330660</td>\n",
       "    </tr>\n",
       "    <tr>\n",
       "      <th>1</th>\n",
       "      <td>3.106891</td>\n",
       "      <td>4.032983</td>\n",
       "      <td>2.349749</td>\n",
       "      <td>4.092002</td>\n",
       "    </tr>\n",
       "    <tr>\n",
       "      <th>2</th>\n",
       "      <td>2.853268</td>\n",
       "      <td>3.524625</td>\n",
       "      <td>2.317295</td>\n",
       "      <td>3.813004</td>\n",
       "    </tr>\n",
       "    <tr>\n",
       "      <th>3</th>\n",
       "      <td>2.520615</td>\n",
       "      <td>2.883872</td>\n",
       "      <td>2.184533</td>\n",
       "      <td>3.326701</td>\n",
       "    </tr>\n",
       "  </tbody>\n",
       "</table>\n",
       "</div>"
      ],
      "text/plain": [
       "     scalar    unroll  simd_sse  simd_avx\n",
       "0  0.537172  0.569870  0.556561  1.330660\n",
       "1  3.106891  4.032983  2.349749  4.092002\n",
       "2  2.853268  3.524625  2.317295  3.813004\n",
       "3  2.520615  2.883872  2.184533  3.326701"
      ]
     },
     "execution_count": 19,
     "metadata": {},
     "output_type": "execute_result"
    }
   ],
   "source": [
    "y_sgx_add_throughput = y_sgx_add.copy()\n",
    "\n",
    "for i in range(len(sizes)):  \n",
    "    y_sgx_add_throughput.loc[i,:] = sizes[i] / 1000000 / y_sgx_add_throughput.loc[i,:] \n",
    "y_sgx_add_throughput"
   ]
  },
  {
   "cell_type": "code",
   "execution_count": 21,
   "metadata": {},
   "outputs": [
    {
     "data": {
      "text/plain": [
       "Text(0, 0.5, 'Throughput in M rec/s')"
      ]
     },
     "execution_count": 21,
     "metadata": {},
     "output_type": "execute_result"
    },
    {
     "data": {
      "image/png": "[encoded data removed]",
      "text/plain": [
       "<Figure size 640x480 with 1 Axes>"
      ]
     },
     "metadata": {},
     "output_type": "display_data"
    }
   ],
   "source": [
    "x =np.arange( 0,len(size_names) )\n",
    "\n",
    "\n",
    "ax = y_sgx_add_throughput.plot(kind=\"bar\")\n",
    "ax.legend(type_cat)\n",
    "ax.set_xticks(x, size_names, rotation = 0)\n",
    "ax.set_xlabel(\"Total table size\",)\n",
    "ax.set_ylabel(\"Throughput in M rec/s\")"
   ]
  },
  {
   "cell_type": "markdown",
   "metadata": {},
   "source": [
    "Speed up."
   ]
  },
  {
   "cell_type": "code",
   "execution_count": null,
   "metadata": {},
   "outputs": [
    {
     "data": {
      "text/html": [
       "<div>\n",
       "<style scoped>\n",
       "    .dataframe tbody tr th:only-of-type {\n",
       "        vertical-align: middle;\n",
       "    }\n",
       "\n",
       "    .dataframe tbody tr th {\n",
       "        vertical-align: top;\n",
       "    }\n",
       "\n",
       "    .dataframe thead th {\n",
       "        text-align: right;\n",
       "    }\n",
       "</style>\n",
       "<table border=\"1\" class=\"dataframe\">\n",
       "  <thead>\n",
       "    <tr style=\"text-align: right;\">\n",
       "      <th></th>\n",
       "      <th>operation</th>\n",
       "      <th>type</th>\n",
       "      <th>mode</th>\n",
       "      <th>size</th>\n",
       "      <th>time</th>\n",
       "    </tr>\n",
       "  </thead>\n",
       "  <tbody>\n",
       "    <tr>\n",
       "      <th>0</th>\n",
       "      <td>ADD</td>\n",
       "      <td>scalar</td>\n",
       "      <td>sgx</td>\n",
       "      <td>0.2</td>\n",
       "      <td>0.0976</td>\n",
       "    </tr>\n",
       "    <tr>\n",
       "      <th>1</th>\n",
       "      <td>ADD</td>\n",
       "      <td>scalar_unroll</td>\n",
       "      <td>sgx</td>\n",
       "      <td>0.2</td>\n",
       "      <td>0.0920</td>\n",
       "    </tr>\n",
       "    <tr>\n",
       "      <th>2</th>\n",
       "      <td>ADD</td>\n",
       "      <td>simd_sse</td>\n",
       "      <td>sgx</td>\n",
       "      <td>0.2</td>\n",
       "      <td>0.0942</td>\n",
       "    </tr>\n",
       "    <tr>\n",
       "      <th>4</th>\n",
       "      <td>ADD</td>\n",
       "      <td>simd_avx</td>\n",
       "      <td>sgx</td>\n",
       "      <td>0.2</td>\n",
       "      <td>0.0394</td>\n",
       "    </tr>\n",
       "    <tr>\n",
       "      <th>13</th>\n",
       "      <td>ADD</td>\n",
       "      <td>scalar</td>\n",
       "      <td>sgx</td>\n",
       "      <td>6.4</td>\n",
       "      <td>0.5400</td>\n",
       "    </tr>\n",
       "    <tr>\n",
       "      <th>14</th>\n",
       "      <td>ADD</td>\n",
       "      <td>scalar_unroll</td>\n",
       "      <td>sgx</td>\n",
       "      <td>6.4</td>\n",
       "      <td>0.4160</td>\n",
       "    </tr>\n",
       "    <tr>\n",
       "      <th>15</th>\n",
       "      <td>ADD</td>\n",
       "      <td>simd_sse</td>\n",
       "      <td>sgx</td>\n",
       "      <td>6.4</td>\n",
       "      <td>0.7140</td>\n",
       "    </tr>\n",
       "    <tr>\n",
       "      <th>17</th>\n",
       "      <td>ADD</td>\n",
       "      <td>simd_avx</td>\n",
       "      <td>sgx</td>\n",
       "      <td>6.4</td>\n",
       "      <td>0.4100</td>\n",
       "    </tr>\n",
       "    <tr>\n",
       "      <th>26</th>\n",
       "      <td>ADD</td>\n",
       "      <td>scalar</td>\n",
       "      <td>sgx</td>\n",
       "      <td>16.0</td>\n",
       "      <td>1.4700</td>\n",
       "    </tr>\n",
       "    <tr>\n",
       "      <th>27</th>\n",
       "      <td>ADD</td>\n",
       "      <td>scalar_unroll</td>\n",
       "      <td>sgx</td>\n",
       "      <td>16.0</td>\n",
       "      <td>1.1900</td>\n",
       "    </tr>\n",
       "    <tr>\n",
       "      <th>28</th>\n",
       "      <td>ADD</td>\n",
       "      <td>simd_sse</td>\n",
       "      <td>sgx</td>\n",
       "      <td>16.0</td>\n",
       "      <td>1.8100</td>\n",
       "    </tr>\n",
       "    <tr>\n",
       "      <th>30</th>\n",
       "      <td>ADD</td>\n",
       "      <td>simd_avx</td>\n",
       "      <td>sgx</td>\n",
       "      <td>16.0</td>\n",
       "      <td>1.1000</td>\n",
       "    </tr>\n",
       "    <tr>\n",
       "      <th>39</th>\n",
       "      <td>ADD</td>\n",
       "      <td>scalar</td>\n",
       "      <td>sgx</td>\n",
       "      <td>100.0</td>\n",
       "      <td>10.4000</td>\n",
       "    </tr>\n",
       "    <tr>\n",
       "      <th>40</th>\n",
       "      <td>ADD</td>\n",
       "      <td>scalar_unroll</td>\n",
       "      <td>sgx</td>\n",
       "      <td>100.0</td>\n",
       "      <td>9.0900</td>\n",
       "    </tr>\n",
       "    <tr>\n",
       "      <th>41</th>\n",
       "      <td>ADD</td>\n",
       "      <td>simd_sse</td>\n",
       "      <td>sgx</td>\n",
       "      <td>100.0</td>\n",
       "      <td>12.0000</td>\n",
       "    </tr>\n",
       "    <tr>\n",
       "      <th>43</th>\n",
       "      <td>ADD</td>\n",
       "      <td>simd_avx</td>\n",
       "      <td>sgx</td>\n",
       "      <td>100.0</td>\n",
       "      <td>7.8800</td>\n",
       "    </tr>\n",
       "    <tr>\n",
       "      <th>52</th>\n",
       "      <td>ADD</td>\n",
       "      <td>scalar</td>\n",
       "      <td>native</td>\n",
       "      <td>0.2</td>\n",
       "      <td>0.0999</td>\n",
       "    </tr>\n",
       "    <tr>\n",
       "      <th>53</th>\n",
       "      <td>ADD</td>\n",
       "      <td>scalar_unroll</td>\n",
       "      <td>native</td>\n",
       "      <td>0.2</td>\n",
       "      <td>0.0462</td>\n",
       "    </tr>\n",
       "    <tr>\n",
       "      <th>54</th>\n",
       "      <td>ADD</td>\n",
       "      <td>simd_sse</td>\n",
       "      <td>native</td>\n",
       "      <td>0.2</td>\n",
       "      <td>0.0526</td>\n",
       "    </tr>\n",
       "    <tr>\n",
       "      <th>56</th>\n",
       "      <td>ADD</td>\n",
       "      <td>simd_avx</td>\n",
       "      <td>native</td>\n",
       "      <td>0.2</td>\n",
       "      <td>0.0284</td>\n",
       "    </tr>\n",
       "    <tr>\n",
       "      <th>65</th>\n",
       "      <td>ADD</td>\n",
       "      <td>scalar</td>\n",
       "      <td>native</td>\n",
       "      <td>6.4</td>\n",
       "      <td>2.5400</td>\n",
       "    </tr>\n",
       "    <tr>\n",
       "      <th>66</th>\n",
       "      <td>ADD</td>\n",
       "      <td>scalar_unroll</td>\n",
       "      <td>native</td>\n",
       "      <td>6.4</td>\n",
       "      <td>1.4900</td>\n",
       "    </tr>\n",
       "    <tr>\n",
       "      <th>67</th>\n",
       "      <td>ADD</td>\n",
       "      <td>simd_sse</td>\n",
       "      <td>native</td>\n",
       "      <td>6.4</td>\n",
       "      <td>1.6400</td>\n",
       "    </tr>\n",
       "    <tr>\n",
       "      <th>69</th>\n",
       "      <td>ADD</td>\n",
       "      <td>simd_avx</td>\n",
       "      <td>native</td>\n",
       "      <td>6.4</td>\n",
       "      <td>0.9090</td>\n",
       "    </tr>\n",
       "    <tr>\n",
       "      <th>78</th>\n",
       "      <td>ADD</td>\n",
       "      <td>scalar</td>\n",
       "      <td>native</td>\n",
       "      <td>16.0</td>\n",
       "      <td>6.4400</td>\n",
       "    </tr>\n",
       "    <tr>\n",
       "      <th>79</th>\n",
       "      <td>ADD</td>\n",
       "      <td>scalar_unroll</td>\n",
       "      <td>native</td>\n",
       "      <td>16.0</td>\n",
       "      <td>3.8300</td>\n",
       "    </tr>\n",
       "    <tr>\n",
       "      <th>80</th>\n",
       "      <td>ADD</td>\n",
       "      <td>simd_sse</td>\n",
       "      <td>native</td>\n",
       "      <td>16.0</td>\n",
       "      <td>4.1800</td>\n",
       "    </tr>\n",
       "    <tr>\n",
       "      <th>82</th>\n",
       "      <td>ADD</td>\n",
       "      <td>simd_avx</td>\n",
       "      <td>native</td>\n",
       "      <td>16.0</td>\n",
       "      <td>2.3800</td>\n",
       "    </tr>\n",
       "    <tr>\n",
       "      <th>91</th>\n",
       "      <td>ADD</td>\n",
       "      <td>scalar</td>\n",
       "      <td>native</td>\n",
       "      <td>100.0</td>\n",
       "      <td>41.3000</td>\n",
       "    </tr>\n",
       "    <tr>\n",
       "      <th>92</th>\n",
       "      <td>ADD</td>\n",
       "      <td>scalar_unroll</td>\n",
       "      <td>native</td>\n",
       "      <td>100.0</td>\n",
       "      <td>25.0000</td>\n",
       "    </tr>\n",
       "    <tr>\n",
       "      <th>93</th>\n",
       "      <td>ADD</td>\n",
       "      <td>simd_sse</td>\n",
       "      <td>native</td>\n",
       "      <td>100.0</td>\n",
       "      <td>27.2000</td>\n",
       "    </tr>\n",
       "    <tr>\n",
       "      <th>95</th>\n",
       "      <td>ADD</td>\n",
       "      <td>simd_avx</td>\n",
       "      <td>native</td>\n",
       "      <td>100.0</td>\n",
       "      <td>15.8000</td>\n",
       "    </tr>\n",
       "  </tbody>\n",
       "</table>\n",
       "</div>"
      ],
      "text/plain": [
       "   operation           type    mode   size     time\n",
       "0        ADD         scalar     sgx    0.2   0.0976\n",
       "1        ADD  scalar_unroll     sgx    0.2   0.0920\n",
       "2        ADD       simd_sse     sgx    0.2   0.0942\n",
       "4        ADD       simd_avx     sgx    0.2   0.0394\n",
       "13       ADD         scalar     sgx    6.4   0.5400\n",
       "14       ADD  scalar_unroll     sgx    6.4   0.4160\n",
       "15       ADD       simd_sse     sgx    6.4   0.7140\n",
       "17       ADD       simd_avx     sgx    6.4   0.4100\n",
       "26       ADD         scalar     sgx   16.0   1.4700\n",
       "27       ADD  scalar_unroll     sgx   16.0   1.1900\n",
       "28       ADD       simd_sse     sgx   16.0   1.8100\n",
       "30       ADD       simd_avx     sgx   16.0   1.1000\n",
       "39       ADD         scalar     sgx  100.0  10.4000\n",
       "40       ADD  scalar_unroll     sgx  100.0   9.0900\n",
       "41       ADD       simd_sse     sgx  100.0  12.0000\n",
       "43       ADD       simd_avx     sgx  100.0   7.8800\n",
       "52       ADD         scalar  native    0.2   0.0999\n",
       "53       ADD  scalar_unroll  native    0.2   0.0462\n",
       "54       ADD       simd_sse  native    0.2   0.0526\n",
       "56       ADD       simd_avx  native    0.2   0.0284\n",
       "65       ADD         scalar  native    6.4   2.5400\n",
       "66       ADD  scalar_unroll  native    6.4   1.4900\n",
       "67       ADD       simd_sse  native    6.4   1.6400\n",
       "69       ADD       simd_avx  native    6.4   0.9090\n",
       "78       ADD         scalar  native   16.0   6.4400\n",
       "79       ADD  scalar_unroll  native   16.0   3.8300\n",
       "80       ADD       simd_sse  native   16.0   4.1800\n",
       "82       ADD       simd_avx  native   16.0   2.3800\n",
       "91       ADD         scalar  native  100.0  41.3000\n",
       "92       ADD  scalar_unroll  native  100.0  25.0000\n",
       "93       ADD       simd_sse  native  100.0  27.2000\n",
       "95       ADD       simd_avx  native  100.0  15.8000"
      ]
     },
     "execution_count": 14,
     "metadata": {},
     "output_type": "execute_result"
    }
   ],
   "source": [
    "df_add = df.loc[df['operation'] == 'ADD']\n",
    "df_add"
   ]
  },
  {
   "cell_type": "code",
   "execution_count": null,
   "metadata": {},
   "outputs": [
    {
     "data": {
      "text/plain": [
       "4"
      ]
     },
     "execution_count": 17,
     "metadata": {},
     "output_type": "execute_result"
    }
   ],
   "source": [
    "len(df_add['size'].unique() )"
   ]
  },
  {
   "cell_type": "code",
   "execution_count": null,
   "metadata": {},
   "outputs": [
    {
     "ename": "KeyError",
     "evalue": "'scalar'",
     "output_type": "error",
     "traceback": [
      "\u001b[0;31m---------------------------------------------------------------------------\u001b[0m",
      "\u001b[0;31mKeyError\u001b[0m                                  Traceback (most recent call last)",
      "File \u001b[0;32m~/.local/lib/python3.8/site-packages/pandas/core/indexes/base.py:3653\u001b[0m, in \u001b[0;36mIndex.get_loc\u001b[0;34m(self, key)\u001b[0m\n\u001b[1;32m   3652\u001b[0m \u001b[38;5;28;01mtry\u001b[39;00m:\n\u001b[0;32m-> 3653\u001b[0m     \u001b[38;5;28;01mreturn\u001b[39;00m \u001b[38;5;28;43mself\u001b[39;49m\u001b[38;5;241;43m.\u001b[39;49m\u001b[43m_engine\u001b[49m\u001b[38;5;241;43m.\u001b[39;49m\u001b[43mget_loc\u001b[49m\u001b[43m(\u001b[49m\u001b[43mcasted_key\u001b[49m\u001b[43m)\u001b[49m\n\u001b[1;32m   3654\u001b[0m \u001b[38;5;28;01mexcept\u001b[39;00m \u001b[38;5;167;01mKeyError\u001b[39;00m \u001b[38;5;28;01mas\u001b[39;00m err:\n",
      "File \u001b[0;32m~/.local/lib/python3.8/site-packages/pandas/_libs/index.pyx:147\u001b[0m, in \u001b[0;36mpandas._libs.index.IndexEngine.get_loc\u001b[0;34m()\u001b[0m\n",
      "File \u001b[0;32m~/.local/lib/python3.8/site-packages/pandas/_libs/index.pyx:176\u001b[0m, in \u001b[0;36mpandas._libs.index.IndexEngine.get_loc\u001b[0;34m()\u001b[0m\n",
      "File \u001b[0;32mpandas/_libs/hashtable_class_helper.pxi:7080\u001b[0m, in \u001b[0;36mpandas._libs.hashtable.PyObjectHashTable.get_item\u001b[0;34m()\u001b[0m\n",
      "File \u001b[0;32mpandas/_libs/hashtable_class_helper.pxi:7088\u001b[0m, in \u001b[0;36mpandas._libs.hashtable.PyObjectHashTable.get_item\u001b[0;34m()\u001b[0m\n",
      "\u001b[0;31mKeyError\u001b[0m: 'scalar'",
      "\nThe above exception was the direct cause of the following exception:\n",
      "\u001b[0;31mKeyError\u001b[0m                                  Traceback (most recent call last)",
      "Cell \u001b[0;32mIn[16], line 5\u001b[0m\n\u001b[1;32m      3\u001b[0m     \u001b[38;5;28;01mfor\u001b[39;00m t \u001b[38;5;129;01min\u001b[39;00m df_add[\u001b[38;5;124m'\u001b[39m\u001b[38;5;124mtype\u001b[39m\u001b[38;5;124m'\u001b[39m]\u001b[38;5;241m.\u001b[39munique():\n\u001b[1;32m      4\u001b[0m         \u001b[38;5;28;01mif\u001b[39;00m t \u001b[38;5;241m==\u001b[39m \u001b[38;5;124m\"\u001b[39m\u001b[38;5;124msimd_sse\u001b[39m\u001b[38;5;124m\"\u001b[39m \u001b[38;5;129;01mor\u001b[39;00m t \u001b[38;5;241m==\u001b[39m \u001b[38;5;124m\"\u001b[39m\u001b[38;5;124msimd_avx\u001b[39m\u001b[38;5;124m\"\u001b[39m :\n\u001b[0;32m----> 5\u001b[0m             y_speedup[t] \u001b[38;5;241m=\u001b[39m \u001b[38;5;28mround\u001b[39m(\u001b[43mdf_add\u001b[49m\u001b[43m[\u001b[49m\u001b[38;5;124;43m\"\u001b[39;49m\u001b[38;5;124;43mscalar\u001b[39;49m\u001b[38;5;124;43m\"\u001b[39;49m\u001b[43m]\u001b[49m[m]\u001b[38;5;241m/\u001b[39mdf_add[t][m],\u001b[38;5;241m3\u001b[39m)\u001b[38;5;241m.\u001b[39mappend()\n\u001b[1;32m      6\u001b[0m         \u001b[38;5;66;03m#y_speedup[t] = ( df_native_add.loc[df_native['type'] == t][\"time\"].reset_index(drop=True).to_list() )\u001b[39;00m\n\u001b[1;32m      7\u001b[0m y_speedup \u001b[38;5;241m=\u001b[39m pd\u001b[38;5;241m.\u001b[39mDataFrame(y_speedup)\n",
      "File \u001b[0;32m~/.local/lib/python3.8/site-packages/pandas/core/frame.py:3761\u001b[0m, in \u001b[0;36mDataFrame.__getitem__\u001b[0;34m(self, key)\u001b[0m\n\u001b[1;32m   3759\u001b[0m \u001b[38;5;28;01mif\u001b[39;00m \u001b[38;5;28mself\u001b[39m\u001b[38;5;241m.\u001b[39mcolumns\u001b[38;5;241m.\u001b[39mnlevels \u001b[38;5;241m>\u001b[39m \u001b[38;5;241m1\u001b[39m:\n\u001b[1;32m   3760\u001b[0m     \u001b[38;5;28;01mreturn\u001b[39;00m \u001b[38;5;28mself\u001b[39m\u001b[38;5;241m.\u001b[39m_getitem_multilevel(key)\n\u001b[0;32m-> 3761\u001b[0m indexer \u001b[38;5;241m=\u001b[39m \u001b[38;5;28;43mself\u001b[39;49m\u001b[38;5;241;43m.\u001b[39;49m\u001b[43mcolumns\u001b[49m\u001b[38;5;241;43m.\u001b[39;49m\u001b[43mget_loc\u001b[49m\u001b[43m(\u001b[49m\u001b[43mkey\u001b[49m\u001b[43m)\u001b[49m\n\u001b[1;32m   3762\u001b[0m \u001b[38;5;28;01mif\u001b[39;00m is_integer(indexer):\n\u001b[1;32m   3763\u001b[0m     indexer \u001b[38;5;241m=\u001b[39m [indexer]\n",
      "File \u001b[0;32m~/.local/lib/python3.8/site-packages/pandas/core/indexes/base.py:3655\u001b[0m, in \u001b[0;36mIndex.get_loc\u001b[0;34m(self, key)\u001b[0m\n\u001b[1;32m   3653\u001b[0m     \u001b[38;5;28;01mreturn\u001b[39;00m \u001b[38;5;28mself\u001b[39m\u001b[38;5;241m.\u001b[39m_engine\u001b[38;5;241m.\u001b[39mget_loc(casted_key)\n\u001b[1;32m   3654\u001b[0m \u001b[38;5;28;01mexcept\u001b[39;00m \u001b[38;5;167;01mKeyError\u001b[39;00m \u001b[38;5;28;01mas\u001b[39;00m err:\n\u001b[0;32m-> 3655\u001b[0m     \u001b[38;5;28;01mraise\u001b[39;00m \u001b[38;5;167;01mKeyError\u001b[39;00m(key) \u001b[38;5;28;01mfrom\u001b[39;00m \u001b[38;5;21;01merr\u001b[39;00m\n\u001b[1;32m   3656\u001b[0m \u001b[38;5;28;01mexcept\u001b[39;00m \u001b[38;5;167;01mTypeError\u001b[39;00m:\n\u001b[1;32m   3657\u001b[0m     \u001b[38;5;66;03m# If we have a listlike key, _check_indexing_error will raise\u001b[39;00m\n\u001b[1;32m   3658\u001b[0m     \u001b[38;5;66;03m#  InvalidIndexError. Otherwise we fall through and re-raise\u001b[39;00m\n\u001b[1;32m   3659\u001b[0m     \u001b[38;5;66;03m#  the TypeError.\u001b[39;00m\n\u001b[1;32m   3660\u001b[0m     \u001b[38;5;28mself\u001b[39m\u001b[38;5;241m.\u001b[39m_check_indexing_error(key)\n",
      "\u001b[0;31mKeyError\u001b[0m: 'scalar'"
     ]
    }
   ],
   "source": [
    "y_speedup = {}\n",
    "y_speedup[\"scalar\"] = df_add[\"scalar\"]\n",
    "#for m in range(len(df_add['size'].unique() )):\n",
    "#    for t in df_add['type'].unique():\n",
    "#        if t == \"simd_sse\" or t == \"simd_avx\" :\n",
    "#            y_speedup[t] = round(df_add[\"scalar\"][m]/df_add[t][m],3).append()\n",
    "#        #y_speedup[t] = ( df_native_add.loc[df_native['type'] == t][\"time\"].reset_index(drop=True).to_list() )\n",
    "#y_speedup = pd.DataFrame(y_speedup)\n",
    "#y_speedup"
   ]
  },
  {
   "cell_type": "code",
   "execution_count": null,
   "metadata": {},
   "outputs": [
    {
     "data": {
      "text/plain": [
       "<Axes: >"
      ]
     },
     "execution_count": 47,
     "metadata": {},
     "output_type": "execute_result"
    },
    {
     "data": {
      "image/png": "[encoded data removed]",
      "text/plain": [
       "<Figure size 640x480 with 1 Axes>"
      ]
     },
     "metadata": {},
     "output_type": "display_data"
    }
   ],
   "source": [
    "y_speedup = {'scalar': [1.0, 1.0, 1.0, 1.0],'simd_sse_native': [1.9, 1.55, 1.54, 1.52], 'simd_avx_native': [3.52, 2.79, 2.71, 2.61], 'simd_sse_sgx': [1.04, 0.76, 0.81, 0.87], 'simd_avx_sgx': [2.48, 1.32, 1.34, 1.32]}\n",
    "y_speedup = pd.DataFrame(y_speedup)\n",
    "y_speedup\n",
    "y_speedup.plot()\n"
   ]
  },
  {
   "cell_type": "code",
   "execution_count": null,
   "metadata": {},
   "outputs": [
    {
     "data": {
      "text/plain": [
       "<Axes: >"
      ]
     },
     "execution_count": 46,
     "metadata": {},
     "output_type": "execute_result"
    },
    {
     "data": {
      "image/png": "[encoded data removed]",
      "text/plain": [
       "<Figure size 640x480 with 1 Axes>"
      ]
     },
     "metadata": {},
     "output_type": "display_data"
    }
   ],
   "source": [
    "y_speedup_small = {'scalar': [1.0, 1.0, 1.0, 1.0],'simd_avx_native': [3.52, 2.79, 2.71, 2.61], 'simd_avx_sgx': [2.48, 1.32, 1.34, 1.32]}\n",
    "y_speedup_small = pd.DataFrame(y_speedup_small)\n",
    "y_speedup_small\n",
    "y_speedup_small.plot()"
   ]
  },
  {
   "cell_type": "code",
   "execution_count": null,
   "metadata": {},
   "outputs": [
    {
     "data": {
      "text/plain": [
       "<Axes: >"
      ]
     },
     "execution_count": 49,
     "metadata": {},
     "output_type": "execute_result"
    },
    {
     "data": {
      "image/png": "[encoded data removed]",
      "text/plain": [
       "<Figure size 640x480 with 1 Axes>"
      ]
     },
     "metadata": {},
     "output_type": "display_data"
    }
   ],
   "source": [
    "y_speedup_small2 = {'scalar': [1.0, 1.0, 1.0, 1.0],'unroll_sgx': [1.06, 1.3, 1.24, 1.14], 'simd_sse_sgx': [1.04, 0.76, 0.81, 0.87], 'simd_avx_sgx': [2.48, 1.32, 1.34, 1.32]}\n",
    "y_speedup_small2 = pd.DataFrame(y_speedup_small2)\n",
    "y_speedup_small2\n",
    "y_speedup_small2.plot()\n"
   ]
  }
 ],
 "metadata": {
  "kernelspec": {
   "display_name": "Python 3",
   "language": "python",
   "name": "python3"
  },
  "language_info": {
   "codemirror_mode": {
    "name": "ipython",
    "version": 3
   },
   "file_extension": ".py",
   "mimetype": "text/x-python",
   "name": "python",
   "nbconvert_exporter": "python",
   "pygments_lexer": "ipython3",
   "version": "3.8.10"
  }
 },
 "nbformat": 4,
 "nbformat_minor": 2
}
